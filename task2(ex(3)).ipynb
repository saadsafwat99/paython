{
 "cells": [
  {
   "cell_type": "code",
   "execution_count": 1,
   "id": "033fb7f4",
   "metadata": {},
   "outputs": [],
   "source": [
    "import networkx as nx"
   ]
  },
  {
   "cell_type": "code",
   "execution_count": 2,
   "id": "ac44f379",
   "metadata": {},
   "outputs": [
    {
     "data": {
      "image/png": "[encoded data removed]",
      "text/plain": [
       "<Figure size 432x288 with 1 Axes>"
      ]
     },
     "metadata": {},
     "output_type": "display_data"
    }
   ],
   "source": [
    "#EXERCISE 3\n",
    "g=nx.Graph()\n",
    "g.add_edges_from([\n",
    "        ('a', 'b'),\n",
    "        ('a', 'd'),\n",
    "        ('c', 'd'),\n",
    "        ('d','a'),\n",
    "        ('a','c'),\n",
    "        ('a','f')\n",
    "    ])\n",
    "nx.draw(g,with_labels=True)\n"
   ]
  },
  {
   "cell_type": "code",
   "execution_count": 3,
   "id": "bd00cb69",
   "metadata": {},
   "outputs": [
    {
     "data": {
      "text/plain": [
       "['a']"
      ]
     },
     "execution_count": 3,
     "metadata": {},
     "output_type": "execute_result"
    }
   ],
   "source": [
    "l=[]\n",
    "def mutual_friends(SG, node_1, node_2):\n",
    "    n1=list(SG.neighbors(node_1))\n",
    "    n2=list(SG.neighbors(node_2))\n",
    "    for node1 in n1:\n",
    "        for node2 in n2:\n",
    "            if node1==node2:\n",
    "                l.append(node1)\n",
    "    return l\n",
    "mutual_friends(g,'f','b')"
   ]
  },
  {
   "cell_type": "code",
   "execution_count": null,
   "id": "912c7911",
   "metadata": {},
   "outputs": [],
   "source": []
  }
 ],
 "metadata": {
  "kernelspec": {
   "display_name": "Python 3 (ipykernel)",
   "language": "python",
   "name": "python3"
  },
  "language_info": {
   "codemirror_mode": {
    "name": "ipython",
    "version": 3
   },
   "file_extension": ".py",
   "mimetype": "text/x-python",
   "name": "python",
   "nbconvert_exporter": "python",
   "pygments_lexer": "ipython3",
   "version": "3.9.7"
  }
 },
 "nbformat": 4,
 "nbformat_minor": 5
}
