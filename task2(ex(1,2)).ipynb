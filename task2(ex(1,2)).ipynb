{
 "cells": [
  {
   "cell_type": "code",
   "execution_count": 27,
   "id": "53e93a9d",
   "metadata": {},
   "outputs": [
    {
     "data": {
      "image/png": "[encoded data removed]",
      "text/plain": [
       "<Figure size 432x288 with 1 Axes>"
      ]
     },
     "metadata": {},
     "output_type": "display_data"
    }
   ],
   "source": [
    "import networkx as nx\n",
    "%matplotlib inline\n",
    "\n",
    "G = nx.Graph()\n",
    "\n",
    "G.add_edges_from([\n",
    "        ('a', 'b'),\n",
    "        ('a', 'd'),\n",
    "        ('c', 'd'),\n",
    "        ('d','a'),\n",
    "        ('a','c'),\n",
    "        ('a','f')\n",
    "    ])\n",
    "\n",
    "\n",
    "nx.draw(G,with_labels=True)"
   ]
  },
  {
   "cell_type": "code",
   "execution_count": 28,
   "id": "b3cf0947",
   "metadata": {},
   "outputs": [
    {
     "name": "stdout",
     "output_type": "stream",
     "text": [
      "['b', 'f']\n"
     ]
    }
   ],
   "source": [
    "#EXERCISE 1\n",
    "li=[]\n",
    "def get_leaves(g):\n",
    "    for node in g.nodes:\n",
    "        if g.degree(node)==1:\n",
    "            li.append(node)\n",
    "    return li   \n",
    "\n",
    "print(get_leaves(G)) "
   ]
  },
  {
   "cell_type": "code",
   "execution_count": 29,
   "id": "db405d66",
   "metadata": {},
   "outputs": [
    {
     "name": "stdout",
     "output_type": "stream",
     "text": [
      "[('name', 'a'), ('degree', 4)]\n"
     ]
    }
   ],
   "source": [
    "#EXERCISE 2\n",
    "li=[]\n",
    "\n",
    "def max_degree(g):\n",
    "    ma=0\n",
    "    n=''\n",
    "    for node in g.nodes:\n",
    "        if ma < g.degree(node):\n",
    "            ma=g.degree(node)\n",
    "            n=node\n",
    "    li.append(('name',n))\n",
    "    li.append(('degree',ma))\n",
    "    return li            \n",
    "print(max_degree(G))"
   ]
  },
  {
   "cell_type": "code",
   "execution_count": null,
   "id": "eaf645b8",
   "metadata": {},
   "outputs": [],
   "source": []
  }
 ],
 "metadata": {
  "kernelspec": {
   "display_name": "Python 3 (ipykernel)",
   "language": "python",
   "name": "python3"
  },
  "language_info": {
   "codemirror_mode": {
    "name": "ipython",
    "version": 3
   },
   "file_extension": ".py",
   "mimetype": "text/x-python",
   "name": "python",
   "nbconvert_exporter": "python",
   "pygments_lexer": "ipython3",
   "version": "3.9.7"
  }
 },
 "nbformat": 4,
 "nbformat_minor": 5
}
